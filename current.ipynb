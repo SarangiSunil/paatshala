start = 1
end = 11

previous_number = 0

for current_number in range(start, end):
    sum = current_number + previous_number
    print("Current Number: ", current_number, " Previous Number: ", previous_number, " Sum: ", sum)
    previous_number = current_number
