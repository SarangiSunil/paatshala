n = int(input("Enter the length : "))
list1 = [int(x) for x in input("Enter the elements of the list separated by spaces: ").split()]

sum_of_elements = sum(list1)

even_list = [x for x in list1 if x % 2 == 0]
odd_list = [x for x in list1 if x % 2 != 0]

print("Sum of elements in the list:", sum_of_elements)
print("Even numbers in the list:", even_list)
print("Odd numbers in the list:", odd_list)
