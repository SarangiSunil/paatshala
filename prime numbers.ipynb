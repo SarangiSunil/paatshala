start = int(input("Enter the start : "))
end = int(input("Enter the end : "))

print("Prime numbers in the given range are:")
for num in range(start, end + 1):
    if num > 1:
        for i in range(2, num):
            if (num % i) == 0:
                break
        else:
            print(num)
