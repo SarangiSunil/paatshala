import math

print(" (a * x^2) + b*x + c")
print("Given a quadratic equation as 'ax^2 + bx + c = 0'")

a = float(input("a: "))
b = float(input("b: "))
c = float(input("c: "))


discriminant = (b**2) - (4*a*c)


if discriminant > 0:
    root1 = (-b + math.sqrt(discriminant)) / (2 * a)
    root2 = (-b - math.sqrt(discriminant)) / (2 * a)
    print("The roots are real and distinct: ", root1, " and ", root2)

elif discriminant == 0:
    root = (-b) / (2 * a)
    print("The roots are real and equal: ", root)

else:
    real = -b / (2 * a)
    imaginary = math.sqrt(-discriminant) / (2 * a)
    print("The roots are complex and different: ", real, " + i", imaginary, " and ", real, " - i", imaginary)
