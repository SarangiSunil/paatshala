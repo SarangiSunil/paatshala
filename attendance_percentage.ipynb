classes_held = float(input("Enter the number of classes held: "))
classes_attended = float(input("Enter the number of classes attended: "))

attendance_percentage = classes_attended / classes_held * 100

print("Attendance Percentage: {:.2f}%".format(attendance_percentage))

if attendance_percentage < 75:
    print("The student is not allowed to sit in the exam.")
else:
    print("The student is allowed to sit in the exam.")
