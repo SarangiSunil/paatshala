start = int(input("Enter the start : "))
end = int(input("Enter the end : "))

def fibonacci_series(n):
    if n <= 0:
        return []
    elif n == 1:
        return [0]
    elif n == 2:
        return [0, 1]
    else:
        fib_list = [0, 1]
        while fib_list[-1] + fib_list[-2] <= end:
            next_fib = fib_list[-1] + fib_list[-2]
            if next_fib >= start:
                fib_list.append(next_fib)
        return fib_list

fib_list = fibonacci_series(end)
print("Fibonacci numbers in the given range are:")
for num in fib_list:
    print(num)
