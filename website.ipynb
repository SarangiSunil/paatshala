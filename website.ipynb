print("Hello, Welcome to the ecommerce website!")

while True:
    user_input = input("What are  buying today? (type 'quit' to exit) ")

    if user_input.lower() == 'quit':
        print("Thank you for visiting the ecommerce website. Have a great day!")
        break

    elif user_input.lower() == 'clothes':
        print("We have a wide range of clothes for men, women, and kids. Would you like to see our collection?")
        collection = input("Type 'yes' to see the collection, 'no' to return to the main menu: ")
        if collection.lower() == 'yes':
            print("Here's our collection of clothes:")
            print("1. T-shirts")
            print("2. Shirts")
            print("3. Jeans")

        elif collection.lower() == 'no':
            continue
        else:
            print("Invalid input, please try again.")

    elif user_input.lower() == 'electronics':
        print("We have a wide range of electronics for you. Would you like to see our collection?")
        collection = input("Type 'yes' to see the collection, 'no' to return to the main menu: ")
        if collection.lower() == 'yes':
            print("Here's our collection of electronics:")
            print("1. Laptops")
            print("2. Smartphones")
            print("3. Televisions")

        elif collection.lower() == 'no':
            continue
        else:
            print("Invalid input, please try again.")

    elif user_input.lower() == 'furniture':
        print("We have a wide range of furniture for your home. Would you like to see our collection?")
        collection = input("Type 'yes' to see the collection, 'no' to return to the main menu: ")
        if collection.lower() == 'yes':
            print("Here's our collection of furniture:")
            print("1. Sofas")
            print("2. Beds")
            print("3. Dining Tables")

        elif collection.lower() == 'no':
            continue
        else:
            print("Invalid input, please try again.")

    else:
        print("Sorry, we don't have that item in our collection. Please try again.")
